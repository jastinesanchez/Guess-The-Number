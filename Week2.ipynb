{
  "nbformat": 4,
  "nbformat_minor": 0,
  "metadata": {
    "colab": {
      "name": "Week2.ipynb",
      "private_outputs": true,
      "provenance": [],
      "collapsed_sections": [],
      "include_colab_link": true
    },
    "kernelspec": {
      "name": "python3",
      "display_name": "Python 3"
    }
  },
  "cells": [
    {
      "cell_type": "markdown",
      "metadata": {
        "id": "view-in-github",
        "colab_type": "text"
      },
      "source": [
        "<a href=\"https://colab.research.google.com/github/jastinesanchez/Guess-The-Number/blob/main/Week2.ipynb\" target=\"_parent\"><img src=\"https://colab.research.google.com/assets/colab-badge.svg\" alt=\"Open In Colab\"/></a>"
      ]
    },
    {
      "cell_type": "markdown",
      "metadata": {
        "id": "7yiqcKoEDvYr"
      },
      "source": [
        "This is a place for your notes and code examples.  Here's a demo, which you should feel free to delete:\n",
        "<br>\n",
        "<br>\n",
        "<br>"
      ]
    },
    {
      "cell_type": "code",
      "metadata": {
        "id": "C1iwTduXEVFm"
      },
      "source": [
        "%%writefile MyNotes.java\n",
        "public class MyNotes {\n",
        "    public static void main (String[] args) {\n",
        "        System.out.println (\"My notes have working code in them!\");\n",
        "    }\n",
        "}"
      ],
      "execution_count": null,
      "outputs": []
    },
    {
      "cell_type": "code",
      "metadata": {
        "id": "jRzZxWlTEgN7"
      },
      "source": [
        "!javac MyNotes.java\n",
        "!java MyNotes"
      ],
      "execution_count": null,
      "outputs": []
    },
    {
      "cell_type": "markdown",
      "metadata": {
        "id": "CER-3tJ3Dotl"
      },
      "source": [
        "You only need to run the code below if you want to use Java 12. You won't need the special new properties of Java 12 for most of the class, but be aware that our GitHub Classroom tests run on Java 12."
      ]
    },
    {
      "cell_type": "code",
      "metadata": {
        "id": "jT9yfcqCDeC5"
      },
      "source": [
        "!sudo add-apt-repository ppa:openjdk-r/ppa -y\n",
        "!sudo apt-get update -y -q\n",
        "!sudo apt-get install openjdk-12-jre-headless -y -q\n",
        "!echo \"0\" | sudo update-alternatives --config java\n",
        "!java -version"
      ],
      "execution_count": null,
      "outputs": []
    },
    {
      "cell_type": "markdown",
      "metadata": {
        "id": "-B-lHzM4d-Pd"
      },
      "source": [
        "# White Space\r\n",
        "* there are 2 standards for White Space, there is googles standards (2 space indent) and Oricle standards (4 space indent and specified line length, only 80 characters).\r\n",
        "\r\n",
        "* Google style guide (Standards) : https://google.github.io/styleguide/javaguide.html#s4.6-whitespace \r\n",
        "\r\n",
        "* Oricle style guide (Standards): https://www.oracle.com/java/technologies/javase/codeconventions-indentation.html \r\n",
        "\r\n",
        "* W3schools also follows a 2 space standard\r\n",
        "\r\n",
        "* Whichever is picked, know whose style you are following and follow the rest of their style guide as well! Google style guide is what we will be using. Note when we arrive at a new guide, it is a good idea to ask the company if they have a specific style guide/ coding style. \r\n",
        "\r\n",
        "*Standards is mostly about code readabilty."
      ]
    },
    {
      "cell_type": "markdown",
      "metadata": {
        "id": "kIb3i1Qhgi12"
      },
      "source": [
        "# Comments\r\n",
        "\r\n",
        "* There are two ways to comment in Java:\r\n",
        "\r\n",
        "* single line comment: // This is a comment\r\n",
        "\r\n",
        "* Multi-line comment: \r\n",
        "\r\n",
        "/* This is a\r\n",
        "  comment */ <-- Make sure they are in line with eachother (indented)"
      ]
    },
    {
      "cell_type": "code",
      "metadata": {
        "id": "Erl_7R4UhGf7"
      },
      "source": [
        "Multi-line /* This is \r\n",
        "              Also a comment  */\r\n",
        "          "
      ],
      "execution_count": null,
      "outputs": []
    },
    {
      "cell_type": "code",
      "metadata": {
        "id": "mvMGe3ihhyOx"
      },
      "source": [
        "%%writefile Input.java\r\n",
        "import java.util.Scanner;\r\n",
        "public class Input {                          \r\n",
        "  public static void main(String [] args) {  \r\n",
        "    Scanner whatEver = new Scanner(System.in);       // Create a Scanner object\r\n",
        "    System.out.println(\"What's your name?\");\r\n",
        "    //String name = whatEver.next();                   // Capture command-line input and put it into the name variable\r\n",
        "    \r\n",
        "    String fullName = whatEver.nextLine();       // This will give you the full comment until there is a new line compared to space                    \r\n",
        "   \r\n",
        "    System.out.println(\"My name is \" + fullName);    // Print \"My name is\" followed by the name the user entered.\r\n",
        "  }\r\n",
        "}\r\n"
      ],
      "execution_count": null,
      "outputs": []
    },
    {
      "cell_type": "code",
      "metadata": {
        "id": "HmXBb2pYiLYU"
      },
      "source": [
        "!javac Input.java\r\n",
        "!echo -e \"Jastine Sanchez\" > test\r\n",
        "!java Input < test"
      ],
      "execution_count": null,
      "outputs": []
    },
    {
      "cell_type": "markdown",
      "metadata": {
        "id": "ePIP4fF8ihm0"
      },
      "source": [
        "# Input Output\r\n",
        "\r\n",
        "* This is a good reference for input and output : https://www.w3schools.com/java/java_user_input.asp \r\n",
        "\r\n",
        "* We cant really test input output in Jupiter Notes, so we would need to put the code in a flat text. First we are creating a file name test and putting \"ME\". An example would be the one above.\r\n",
        "\r\n",
        "* Will only show one worded Variable, the scanner in this code is the reason why we can't see two different variable.\r\n"
      ]
    },
    {
      "cell_type": "code",
      "metadata": {
        "id": "AJxEF0UtlP3U"
      },
      "source": [
        "%%writefile Input.java\r\n",
        "import java.util.Scanner;\r\n",
        "\r\n",
        "// Goal: Calculator\r\n",
        "\r\n",
        "public class Input {                          \r\n",
        "  public static void main(String [] args) {  \r\n",
        "    Scanner whatEverScanner = new Scanner(System.in);       // Create a Scanner object\r\n",
        "    \r\n",
        "    System.out.println(\"What's your first number?\");\r\n",
        "    int firstNumber = whatEverScanner.nextInt();       // This will give you the full comment until there is a new line compared to space                    \r\n",
        "    \r\n",
        "    System.out.println(\"What's your second Number?\");\r\n",
        "    int secondNumber = whatEverScanner.nextInt();\r\n",
        "    \r\n",
        "    System.out.println (\"Now we will add your numbers!\");\r\n",
        "    int myAnswer = firstNumber + secondNumber;\r\n",
        "\r\n",
        "\r\n",
        "    System.out.println(\"My first number is \" + firstNumber + \".\\nMy second Number is \" + secondNumber + \".\\nThese two numbers add up to \" + myAnswer);    // Print \"My name is\" followed by the name the user entered.\r\n",
        "  }\r\n",
        "}\r\n"
      ],
      "execution_count": null,
      "outputs": []
    },
    {
      "cell_type": "code",
      "metadata": {
        "id": "Lxuh0Q-VrMUk"
      },
      "source": [
        "!javac Input.java\r\n",
        "!echo -e \"22\\n30\" > test\r\n",
        "!cat test\r\n",
        "!java Input < test"
      ],
      "execution_count": null,
      "outputs": []
    },
    {
      "cell_type": "markdown",
      "metadata": {
        "id": "R5owgDI5oYET"
      },
      "source": [
        "This underneath is From Wednesday from the other class, they are the same thing but its nice to have multiple examples just incase. This one has all the extra calculator stuff\r\n"
      ]
    },
    {
      "cell_type": "code",
      "metadata": {
        "id": "CmILx1H6oKEF"
      },
      "source": [
        "%%writefile Input.java\r\n",
        "import java.util.Scanner;\r\n",
        "// Goal: Build a Calculator\r\n",
        "// Expectation: punch in numbers instead of prompted (maybe prompted once, but not twice)\r\n",
        "// Expectation: only results of operator punched in\r\n",
        "// ? Scientific notation translator: 9.313225746154785E20 9313225746154785000000 (example)\r\n",
        "// Figure out how to enter something like: 2 + 4 and get just 6 as the output.\r\n",
        "// If/then & Switch (not covering this until next week!)\r\n",
        "\r\n",
        "\r\n",
        "public class Input {                          \r\n",
        "    public static void main(String [] args) {  \r\n",
        "        Scanner randomScanner = new Scanner(System.in);       // Create a Scanner object\r\n",
        "        \r\n",
        "        System.out.println(\"Enter your first number:\");       // Scans for first number and stores it as firstNumber.\r\n",
        "        double firstNumber = randomScanner.nextDouble();\r\n",
        "        \r\n",
        "        \r\n",
        "        System.out.println(\"Enter your second number:\");      // Scans for second number and stores it as secondNumber.\r\n",
        "        double secondNumber = randomScanner.nextDouble();\r\n",
        "        \r\n",
        "        \r\n",
        "        double myAnswer  = firstNumber + secondNumber;              // Adds those numbers together and stores the answer as myAnswer.\r\n",
        "        double myAnswer2 = firstNumber - secondNumber;              //Subtracts second number from first\r\n",
        "        double myAnswer3 = firstNumber * secondNumber;              // Multiplies first number by the second numbers\r\n",
        "        double myAnswer4 = firstNumber / secondNumber;              // Division the second number by the first number\r\n",
        "        double myAnswer5 = (Math.pow(firstNumber, secondNumber));   // Raise the first number to the power of the second number\r\n",
        "\r\n",
        "\r\n",
        "        System.out.println(\"My first number is \" + firstNumber + \r\n",
        "                           \".\\nMy second number is \" + secondNumber + \r\n",
        "                           \".\\nAddition: \" + myAnswer + \r\n",
        "                           \".\\nSubtraction: \" + myAnswer2 + \r\n",
        "                           \".\\nMultiplication: \" + myAnswer3 + \r\n",
        "                           \".\\nDivision: \" + myAnswer4 +\r\n",
        "                           \".\\nExponent: \" + myAnswer5 + \".\");\r\n",
        "  }\r\n",
        "}"
      ],
      "execution_count": null,
      "outputs": []
    },
    {
      "cell_type": "code",
      "metadata": {
        "id": "t02UrjaVoQP2"
      },
      "source": [
        "!javac Input.java\r\n",
        "!echo -e \"5.0\\n30.0\" > test\r\n",
        "!java Input < test"
      ],
      "execution_count": null,
      "outputs": []
    },
    {
      "cell_type": "markdown",
      "metadata": {
        "id": "WnwpkBY6ybJB"
      },
      "source": [
        "Math Reference for Java:\r\n",
        "\r\n",
        "https://www.w3schools.com/java/java_ref_math.asp\r\n",
        "\r\n",
        "Java Data Types:\r\n",
        "\r\n",
        "https://www.w3schools.com/java/java_data_types.asp\r\n"
      ]
    },
    {
      "cell_type": "markdown",
      "metadata": {
        "id": "U84I97eP10U_"
      },
      "source": [
        "# Thursday Notes - January 14th, 2021\r\n",
        "* A bit is the smallest form of memory and 8 bits creates a bytes\r\n",
        "*Two different decimal data type\r\n",
        "  * Float : Stores about 6 - 7 decimals\r\n",
        "  * double : Stores about 15 decimals\r\n",
        "* Different Single Value characters\r\n",
        "  * Boolean (booleanVar) = true : used for true or false. (Takes up 1 byte)\r\n",
        "  * Char (charVar) = \"J\" : Stores a single character/letter or ASCII values (takes up 2 bytes), NOTE the single quotes\r\n",
        "*Here is the website for more info: https://www.w3schools.com/java/java_data_types.asp \r\n"
      ]
    },
    {
      "cell_type": "code",
      "metadata": {
        "id": "zzfV27jK3hFf"
      },
      "source": [
        "%%writefile Declaration.java\r\n",
        "public class Declaration {\r\n",
        "    public static void main (String [] args) {\r\n",
        "        // Whole numbers.  The only difference between them is how many numbers they can store\r\n",
        "        int   intVar   = 1000000000;            // Stores whole numbers from -2,147,483,648 to 2,147,483,647 (Takes up 4 bytes)\r\n",
        "        byte  byteVar  = 100;                   // Stores whole numbers from -128 to 127 (Takes up 1 byte)\r\n",
        "        short shortVar = 1000;                  // Stores whole numbers from -32,768 to 32,767 (Takes up 2 bytes)\r\n",
        "        long  longVar  =  1000000000000000000L; // Stores whole numbers from -9,223,372,036,854,775,808 to 9,223,372,036,854,775,807 (Takes up 8 bytes)\r\n",
        "        // Note: if you want to get decimals back when you divide two numbers, you must start with a decimal data type.\r\n",
        "        // Int's divided by ints will produce int's that round down.\r\n",
        "        // Stores decimals  \r\n",
        "        float floatVar   = 3.141592f;            //Stores fractional numbers. Sufficient for storing 6 to 7 decimal digits (Takes up 4 bytes)\r\n",
        "        double doubleVar = 3.141592653589793d;   // Stores fractional numbers. Sufficient for storing 15 decimal digits (Takes up 8 bytes)\r\n",
        "        // Single value\r\n",
        "        boolean booleanVar = true;              // Boolean is used for true or false.  (Takes up 1 byte)\r\n",
        "        char charVar       = 'J';               // Stores a single character/letter or ASCII values (Takes up 2 bytes)  Note the single quotes!\r\n",
        "        System.out.println(\"There are 8 primitive data types\\nint, byte, short, long, fload, double, boolean, & char\");\r\n",
        "        System.out.println(\"intVar = \" + intVar );\r\n",
        "        System.out.println(\"byteVar = \" + byteVar);\r\n",
        "        System.out.println(\"shortVar = \" + shortVar);\r\n",
        "        System.out.println(\"longVar = \" + longVar);\r\n",
        "        System.out.println(\"float = \" + floatVar);\r\n",
        "        System.out.println(\"double = \" + doubleVar);\r\n",
        "        System.out.println(\"boolean = \" + booleanVar);\r\n",
        "        System.out.println(\"char = \" + charVar);\r\n",
        "    }\r\n",
        "}"
      ],
      "execution_count": null,
      "outputs": []
    },
    {
      "cell_type": "code",
      "metadata": {
        "id": "_7WeaX5r5B15"
      },
      "source": [
        "!javac Declaration.java\r\n",
        "!java Declaration"
      ],
      "execution_count": null,
      "outputs": []
    },
    {
      "cell_type": "markdown",
      "metadata": {
        "id": "JO2eb2Xi5HT7"
      },
      "source": [
        "#Non-Primitive Data Types\r\n",
        "Anything that refers to an object is a non-primitive data type, examples:\r\n",
        "  * Object can be anything\r\n",
        "  * Can pass objects between class\r\n",
        "  * Objects dont have a specific \r\n",
        "behaviors\r\n",
        "  * Strings\r\n",
        "  * Array\r\n",
        "  * Classes\r\n",
        "  * Interfaces\r\n",
        "\r\n",
        "String is the st famous non-primitive datatype, but later in the quarter we will be looking at other very useful non-primitive data types such as array, classes, interfaces, and so on\r\n",
        "\r\n",
        "Here are some attributes of Non-primitive data types:\r\n",
        "* Primitive types are predefined (already defined) in Java. Non are created by the programmer and is not defined by Java (except for String)\r\n",
        "* Non can be used to call methods to perform certain operations, while prim type cannot.\r\n",
        "* A primitive type always has a value, while non can be null\r\n",
        "* A prim starts with lowercase, while non types start with an uppercase\r\n",
        "* The size of a prim type depends on the data type, while non types have all the same size\r\n",
        "\r\n",
        "Here is a link for more info: https://en.wikipedia.org/wiki/String_interning "
      ]
    },
    {
      "cell_type": "code",
      "metadata": {
        "id": "3ScRPT9M5T-c"
      },
      "source": [
        "%%writefile StringClass.java\r\n",
        "public class StringClass {\r\n",
        "    public static void main (String [] args) {\r\n",
        "        String myQuote = \"A quote from a book I like is \\\"It used to be thought that the events that changed the world were things like big bombs,\\nmaniac politicians, huge earthquakes, or vast population movements, but it has now been realized that this is a very old-fashioned\\nview held by people totally out of touch with modern thought. The things that really change the world, according to Chaos theory,\\nare the tiny things. A butterfly flaps its wings in the Amazonian jungle, and subsequently a storm ravages half of Europe.\\\"\";\r\n",
        "        System.out.println(myQuote);\r\n",
        "        // How do strings work in memory? https://en.wikipedia.org/wiki/String_interning\r\n",
        "    \r\n",
        "    }\r\n",
        "}"
      ],
      "execution_count": null,
      "outputs": []
    },
    {
      "cell_type": "code",
      "metadata": {
        "id": "JWr43deq9kMF"
      },
      "source": [
        "!javac StringClass.java\r\n",
        "!java StringClass"
      ],
      "execution_count": null,
      "outputs": []
    },
    {
      "cell_type": "markdown",
      "metadata": {
        "id": "4XtK4qWy9pQH"
      },
      "source": [
        "Constants we would want to have those so variables can be constant especially when sharing codes with eachother"
      ]
    },
    {
      "cell_type": "code",
      "metadata": {
        "id": "wCdnDTK3-jdg"
      },
      "source": [
        "final int constantVar = 15;\r\n",
        "constantVar = 20;  // will generate an error: cannot assign a value to a final variable"
      ],
      "execution_count": null,
      "outputs": []
    },
    {
      "cell_type": "markdown",
      "metadata": {
        "id": "Y4bQ7Gr7-w7G"
      },
      "source": [
        "Why do we want Casting?\r\n",
        "\r\n",
        "Casting: How to convert between datatype \r\n",
        "\r\n",
        "A link for more info:\r\n",
        "\r\n",
        "https://www.w3schools.com/java/java_type_casting.asp\r\n",
        "\r\n",
        "String Method link: https://www.w3schools.com/java/java_ref_string.asp\r\n",
        "\r\n",
        "myVar.method(input)\r\n",
        "\r\n",
        "Math link: https://www.w3schools.com/java/java_math.asp\r\n",
        "\r\n",
        "Math Method Link: https://www.w3schools.com/java/java_ref_math.asp \r\n",
        "\r\n",
        "\r\n"
      ]
    }
  ]
}